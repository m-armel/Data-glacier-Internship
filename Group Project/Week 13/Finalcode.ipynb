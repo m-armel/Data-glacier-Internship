{
 "cells": [
  {
   "cell_type": "code",
   "execution_count": null,
   "id": "febf543c-db6c-4cd6-8249-d5657e9caf7d",
   "metadata": {},
   "outputs": [],
   "source": [
    "import pandas as pd\n",
    "\n",
    "# Load the datasets\n",
    "file_paths = {\n",
    "    'fitness_analysis': 'C:/Users/Armel/OneDrive/Documents/Glacier work/Group project/fitness_analysis.csv',\n",
    "    'fitness_consumer': 'C:/Users/Armel/OneDrive/Documents/Glacier work/Group project/fitness_consumer.csv',\n",
    "    'fitness_trackers': 'C:/Users/Armel/OneDrive/Documents/Glacier work/Group project/fitness_trackers.csv'\n",
    "}"
   ]
  },
  {
   "cell_type": "code",
   "execution_count": null,
   "id": "d729ea61-0e62-4a0b-a9f1-b3c25e5221db",
   "metadata": {},
   "outputs": [],
   "source": [
    "datasets = {name: pd.read_csv(path) for name, path in file_paths.items()}"
   ]
  },
  {
   "cell_type": "code",
   "execution_count": null,
   "id": "7da18c61-a2c2-447f-abf2-445b012643f7",
   "metadata": {},
   "outputs": [],
   "source": [
    "# Remove duplicates from each dataset\n",
    "for name, data in datasets.items():\n",
    "    datasets[name] = data.drop_duplicates()"
   ]
  },
  {
   "cell_type": "code",
   "execution_count": null,
   "id": "ba61bf86-362c-4ce5-8ccb-5a18ea6d9fd2",
   "metadata": {},
   "outputs": [],
   "source": [
    "# Fitness Trackers Dataset: Handle missing values and correct data types\n",
    "fitness_trackers = datasets['fitness_trackers']\n",
    "\n",
    "# Remove commas from 'Reviews' column and convert to integers\n",
    "fitness_trackers['Reviews'] = fitness_trackers['Reviews'].fillna('0').str.replace(',', '').astype(int)"
   ]
  },
  {
   "cell_type": "code",
   "execution_count": null,
   "id": "bcd9de1c-3df5-4c7b-9446-bc7118c81059",
   "metadata": {},
   "outputs": [],
   "source": [
    "# Ensure there are no more issues with the data\n",
    "fitness_trackers.info()"
   ]
  },
  {
   "cell_type": "code",
   "execution_count": null,
   "id": "acc224a5-7f39-4a34-be95-ec8886944a90",
   "metadata": {},
   "outputs": [],
   "source": [
    "# Update datasets dictionary with the cleaned fitness_trackers data\n",
    "datasets['fitness_trackers'] = fitness_trackers"
   ]
  },
  {
   "cell_type": "code",
   "execution_count": null,
   "id": "56204c9a-cbf9-4fa8-aca4-b136b4a75cc3",
   "metadata": {},
   "outputs": [],
   "source": [
    "# Handle missing values and correct data types for fitness_analysis dataset\n",
    "fitness_analysis = datasets['fitness_analysis']\n",
    "\n",
    "# Checking for missing values\n",
    "missing_values_analysis = fitness_analysis.isnull().sum()"
   ]
  },
  {
   "cell_type": "code",
   "execution_count": null,
   "id": "42860855-5566-453f-a172-b2568d463064",
   "metadata": {},
   "outputs": [],
   "source": [
    "# Handle missing values for fitness_consumer dataset\n",
    "fitness_consumer = datasets['fitness_consumer']\n",
    "\n",
    "# Checking for missing values\n",
    "missing_values_consumer = fitness_consumer.isnull().sum()"
   ]
  },
  {
   "cell_type": "code",
   "execution_count": null,
   "id": "e30f7882-bb33-4209-b013-b4bfba4e7be0",
   "metadata": {},
   "outputs": [],
   "source": [
    "# Fill missing values if appropriate (assuming dropping rows with missing values for simplicity)\n",
    "fitness_analysis = fitness_analysis.dropna()\n",
    "fitness_consumer = fitness_consumer.dropna()"
   ]
  },
  {
   "cell_type": "code",
   "execution_count": null,
   "id": "fa1fb4eb-a0f6-4a3c-b746-1f3fc27720ed",
   "metadata": {},
   "outputs": [],
   "source": [
    "# Update datasets dictionary with the cleaned data\n",
    "datasets['fitness_analysis'] = fitness_analysis\n",
    "datasets['fitness_consumer'] = fitness_consumer"
   ]
  },
  {
   "cell_type": "code",
   "execution_count": null,
   "id": "4c2354db-7295-4397-874c-af71be2a7ed4",
   "metadata": {},
   "outputs": [],
   "source": [
    "# Displaying first few rows of each cleaned dataset\n",
    "cleaned_previews = {name: data.head() for name, data in datasets.items()}\n",
    "cleaned_previews"
   ]
  },
  {
   "cell_type": "code",
   "execution_count": null,
   "id": "630ea05e-5d4d-4847-888e-a6ad76d3c59f",
   "metadata": {},
   "outputs": [],
   "source": []
  },
  {
   "cell_type": "code",
   "execution_count": null,
   "id": "029b188f-b7dc-424c-97de-df59f5e30404",
   "metadata": {},
   "outputs": [],
   "source": [
    "# Standardize column names for merging\n",
    "fitness_analysis = datasets['fitness_analysis'].rename(columns=lambda x: x.strip().lower().replace(' ', '_'))\n",
    "fitness_consumer = datasets['fitness_consumer'].rename(columns=lambda x: x.strip().lower().replace(' ', '_'))\n",
    "fitness_trackers = datasets['fitness_trackers'].rename(columns=lambda x: x.strip().lower().replace(' ', '_'))"
   ]
  },
  {
   "cell_type": "code",
   "execution_count": null,
   "id": "18dfcf15-f370-4f85-89e9-2d286d10d480",
   "metadata": {},
   "outputs": [],
   "source": [
    "# Create unique identifiers for each row in each dataset\n",
    "fitness_analysis['unique_id'] = range(1, len(fitness_analysis) + 1)\n",
    "fitness_consumer['unique_id'] = range(1, len(fitness_consumer) + 1)"
   ]
  },
  {
   "cell_type": "code",
   "execution_count": null,
   "id": "36717809-6c1a-4921-9bab-a0ad6aae9088",
   "metadata": {},
   "outputs": [],
   "source": [
    "# Merge the datasets based on the unique identifier\n",
    "merged_data = pd.merge(fitness_analysis, fitness_consumer, on='unique_id', how='outer', suffixes=('_analysis', '_consumer'))"
   ]
  },
  {
   "cell_type": "code",
   "execution_count": null,
   "id": "3c0f3902-d703-4c47-8c08-6f68b3cd7e52",
   "metadata": {},
   "outputs": [],
   "source": [
    "# Encode categorical variables to numeric values for correlation analysis\n",
    "fitness_level_mapping = {\n",
    "    'Very good': 5,\n",
    "    'Good': 4,\n",
    "    'Average': 3,\n",
    "    'Unfit': 2,\n",
    "    'Very unfit': 1\n",
    "}\n",
    "\n",
    "exercise_frequency_mapping = {\n",
    "    'Everyday': 5,\n",
    "    '5 to 6 times a week': 4,\n",
    "    '3 to 4 times a week': 3,\n",
    "    '1 to 2 times a week': 2,\n",
    "    'Never': 1\n",
    "}\n",
    "\n",
    "motivation_mapping = {\n",
    "    'Strongly agree': 5,\n",
    "    'Agree': 4,\n",
    "    'Neutral': 3,\n",
    "    'Disagree': 2,\n",
    "    'Strongly disagree': 1\n",
    "}\n",
    "\n",
    "health_perception_mapping = {\n",
    "    'Very healthy': 5,\n",
    "    'Healthy': 4,\n",
    "    'Average': 3,\n",
    "    'Unhealthy': 2,\n",
    "    'Very unhealthy': 1\n",
    "}"
   ]
  },
  {
   "cell_type": "code",
   "execution_count": null,
   "id": "d6934324-eade-4e02-a1f9-34ef8eba692c",
   "metadata": {},
   "outputs": [],
   "source": [
    "# Apply the mappings to the correlation data\n",
    "correlation_data = merged_data[[\n",
    "    'how_do_you_describe_your_current_level_of_fitness_?',\n",
    "    'how_important_is_exercise_to_you_?',\n",
    "    'has_the_fitness_wearable_helped_you_stay_motivated_to_exercise?',\n",
    "    'how_often_do_you_exercise?'\n",
    "]]"
   ]
  },
  {
   "cell_type": "code",
   "execution_count": null,
   "id": "24b0a78e-93c0-42ce-86ee-443a99542591",
   "metadata": {},
   "outputs": [],
   "source": [
    "correlation_data['fitness_level_numeric'] = correlation_data['how_do_you_describe_your_current_level_of_fitness_?'].map(fitness_level_mapping)\n",
    "correlation_data['exercise_frequency_numeric'] = correlation_data['how_often_do_you_exercise?'].map(exercise_frequency_mapping)\n",
    "correlation_data['motivation_numeric'] = correlation_data['has_the_fitness_wearable_helped_you_stay_motivated_to_exercise?'].map(motivation_mapping)"
   ]
  },
  {
   "cell_type": "code",
   "execution_count": null,
   "id": "b101a3b0-12a6-46d8-8aeb-614dc9eddfc6",
   "metadata": {},
   "outputs": [],
   "source": [
    "# Calculate the correlation matrix\n",
    "correlation_matrix = correlation_data[['fitness_level_numeric', 'exercise_frequency_numeric', 'motivation_numeric']].corr()"
   ]
  },
  {
   "cell_type": "code",
   "execution_count": null,
   "id": "1525e787-2b48-423c-913a-c033389df83b",
   "metadata": {},
   "outputs": [],
   "source": [
    "import matplotlib.pyplot as plt\n",
    "import seaborn as sns\n",
    "\n",
    "# Visualization 1: Distribution of Fitness Levels\n",
    "plt.figure(figsize=(10, 6))\n",
    "sns.countplot(data=merged_data, x='how_do_you_describe_your_current_level_of_fitness_?')\n",
    "plt.title('Distribution of Fitness Levels')\n",
    "plt.xlabel('Fitness Level')\n",
    "plt.ylabel('Count')\n",
    "plt.xticks(rotation=45)\n",
    "plt.show() "
   ]
  },
  {
   "cell_type": "code",
   "execution_count": null,
   "id": "192ed752-8b5a-4f22-b35d-60dc4f8f6e1e",
   "metadata": {},
   "outputs": [],
   "source": [
    "# Visualization 2: Distribution of Exercise Frequency\n",
    "plt.figure(figsize=(10, 6))\n",
    "sns.countplot(data=merged_data, x='how_often_do_you_exercise?')\n",
    "plt.title('Distribution of Exercise Frequency')\n",
    "plt.xlabel('Exercise Frequency')\n",
    "plt.ylabel('Count')\n",
    "plt.xticks(rotation=45)\n",
    "plt.show()"
   ]
  },
  {
   "cell_type": "code",
   "execution_count": null,
   "id": "fd2862b6-c3a9-42c3-b5eb-9aa702e0a38a",
   "metadata": {},
   "outputs": [],
   "source": [
    "# Visualization 3: Impact of Fitness Wearable on Motivation\n",
    "plt.figure(figsize=(10, 6))\n",
    "sns.countplot(data=merged_data, x='has_the_fitness_wearable_helped_you_stay_motivated_to_exercise?')\n",
    "plt.title('Impact of Fitness Wearable on Motivation')\n",
    "plt.xlabel('Motivation by Wearable')\n",
    "plt.ylabel('Count')\n",
    "plt.xticks(rotation=45)\n",
    "plt.show()"
   ]
  },
  {
   "cell_type": "code",
   "execution_count": null,
   "id": "26f92b08-ac35-4fc1-b366-5fede5c4d9dc",
   "metadata": {},
   "outputs": [],
   "source": [
    "# Visualization 4: Correlation Heatmap\n",
    "plt.figure(figsize=(10, 6))\n",
    "sns.heatmap(correlation_matrix, annot=True, cmap='coolwarm', vmin=-1, vmax=1)\n",
    "plt.title('Correlation Matrix: Fitness and Motivation')\n",
    "plt.show()"
   ]
  },
  {
   "cell_type": "code",
   "execution_count": null,
   "id": "6bf4cde2-c8f4-4aa4-aa83-5ceea981d18f",
   "metadata": {},
   "outputs": [],
   "source": [
    "# Hypothesis 1: Relationship Between Fitness Level and Motivation\n",
    "# Individuals with higher fitness levels are more likely to be motivated by fitness wearables.\n",
    "import pandas as pd\n",
    "import seaborn as sns\n",
    "import matplotlib.pyplot as plt\n",
    "\n",
    "# Assuming 'fitness_analysis' and 'fitness_consumer' have been cleaned and merged into 'merged_data'\n",
    "\n",
    "merged_data['fitness_level_numeric'] = merged_data['how_do_you_describe_your_current_level_of_fitness_?'].map(fitness_level_mapping)\n",
    "merged_data['motivation_numeric'] = merged_data['has_the_fitness_wearable_helped_you_stay_motivated_to_exercise?'].map(motivation_mapping)\n",
    "\n",
    "# Plot the relationship\n",
    "plt.figure(figsize=(10, 6))\n",
    "sns.scatterplot(data=merged_data, x='fitness_level_numeric', y='motivation_numeric')\n",
    "plt.title('Relationship Between Fitness Level and Motivation')\n",
    "plt.xlabel('Fitness Level (Numeric)')\n",
    "plt.ylabel('Motivation (Numeric)')\n",
    "plt.show()\n"
   ]
  },
  {
   "cell_type": "code",
   "execution_count": null,
   "id": "7cc4a230-3591-42a9-962d-d020ee9569a3",
   "metadata": {},
   "outputs": [],
   "source": [
    "# Hypothesis 2: Impact of Fitness Wearables on Exercise Frequency\n",
    "# The use of fitness wearables increases the frequency of exercise among users.\n",
    "\n",
    "# Encode exercise frequency for analysis\n",
    "exercise_frequency_mapping = {\n",
    "    'Everyday': 5,\n",
    "    '5 to 6 times a week': 4,\n",
    "    '3 to 4 times a week': 3,\n",
    "    '1 to 2 times a week': 2,\n",
    "    'Never': 1\n",
    "}\n",
    "\n",
    "merged_data['exercise_frequency_numeric'] = merged_data['how_often_do_you_exercise?'].map(exercise_frequency_mapping)\n",
    "merged_data['influenced_by_wearable'] = merged_data['has_using_a_fitness_wearable_influenced_your_decision?_[to_exercise_more?]'].map(lambda x: 1 if x in ['Agree', 'Strongly agree'] else 0)\n",
    "\n",
    "# Plot the relationship\n",
    "plt.figure(figsize=(10, 6))\n",
    "sns.boxplot(data=merged_data, x='influenced_by_wearable', y='exercise_frequency_numeric')\n",
    "plt.title('Impact of Fitness Wearables on Exercise Frequency')\n",
    "plt.xlabel('Influenced by Wearable (1: Yes, 0: No)')\n",
    "plt.ylabel('Exercise Frequency (Numeric)')\n",
    "plt.show()"
   ]
  },
  {
   "cell_type": "code",
   "execution_count": null,
   "id": "234a7ef3-494c-4e15-9f01-7ef6b2a97140",
   "metadata": {},
   "outputs": [],
   "source": [
    "# Hypothesis 3: Barriers to Exercise and Their Impact on Fitness Level\n",
    "# Common barriers to exercise, such as lack of time and motivation, are associated with lower fitness levels.\n",
    "\n",
    "# Create a flag for common barriers\n",
    "merged_data['barrier_lack_of_time'] = merged_data['what_barriers,_if_any,_prevent_you_from_exercising_more_regularly?___________(please_select_all_that_apply)'].apply(lambda x: 1 if 'I don\\'t have enough time' in str(x) else 0)\n",
    "merged_data['barrier_lack_of_motivation'] = merged_data['what_barriers,_if_any,_prevent_you_from_exercising_more_regularly?___________(please_select_all_that_apply)'].apply(lambda x: 1 if 'I can\\'t stay motivated' in str(x) else 0)\n",
    "\n",
    "# Plot the relationship\n",
    "plt.figure(figsize=(10, 6))\n",
    "sns.boxplot(data=merged_data, x='barrier_lack_of_time', y='fitness_level_numeric')\n",
    "plt.title('Impact of Lack of Time on Fitness Level')\n",
    "plt.xlabel('Lack of Time (1: Yes, 0: No)')\n",
    "plt.ylabel('Fitness Level (Numeric)')\n",
    "plt.show()\n",
    "\n",
    "plt.figure(figsize=(10, 6))\n",
    "sns.boxplot(data=merged_data, x='barrier_lack_of_motivation', y='fitness_level_numeric')\n",
    "plt.title('Impact of Lack of Motivation on Fitness Level')\n",
    "plt.xlabel('Lack of Motivation (1: Yes, 0: No)')\n",
    "plt.ylabel('Fitness Level (Numeric)')\n",
    "plt.show()"
   ]
  },
  {
   "cell_type": "code",
   "execution_count": null,
   "id": "3b863f85-afa3-43ca-b3e2-43e21850cfc0",
   "metadata": {},
   "outputs": [],
   "source": [
    "# Hypothesis 4: Influence of Demographics on Fitness and Exercise Habits\n",
    "# Age and gender significantly influence fitness levels and exercise habits.\n",
    "\n",
    "# Plot the relationship\n",
    "plt.figure(figsize=(10, 6))\n",
    "sns.boxplot(data=merged_data, x='your_gender', y='fitness_level_numeric')\n",
    "plt.title('Impact of Gender on Fitness Level')\n",
    "plt.xlabel('Gender')\n",
    "plt.ylabel('Fitness Level (Numeric)')\n",
    "plt.show()\n",
    "\n",
    "plt.figure(figsize=(10, 6))\n",
    "sns.boxplot(data=merged_data, x='your_age', y='fitness_level_numeric')\n",
    "plt.title('Impact of Age on Fitness Level')\n",
    "plt.xlabel('Age Group')\n",
    "plt.ylabel('Fitness Level (Numeric)')\n",
    "plt.show()\n",
    "\n",
    "plt.figure(figsize=(10, 6))\n",
    "sns.boxplot(data=merged_data, x='your_gender', y='exercise_frequency_numeric')\n",
    "plt.title('Impact of Gender on Exercise Frequency')\n",
    "plt.xlabel('Gender')\n",
    "plt.ylabel('Exercise Frequency (Numeric)')\n",
    "plt.show()\n",
    "\n",
    "plt.figure(figsize=(10, 6))\n",
    "sns.boxplot(data=merged_data, x='your_age', y='exercise_frequency_numeric')\n",
    "plt.title('Impact of Age on Exercise Frequency')\n",
    "plt.xlabel('Age Group')\n",
    "plt.ylabel('Exercise Frequency (Numeric)')\n",
    "plt.show()\n"
   ]
  },
  {
   "cell_type": "code",
   "execution_count": null,
   "id": "6945365a-711f-4a0f-a664-0618c48b5f7e",
   "metadata": {},
   "outputs": [],
   "source": []
  }
 ],
 "metadata": {
  "kernelspec": {
   "display_name": "Python 3 (ipykernel)",
   "language": "python",
   "name": "python3"
  },
  "language_info": {
   "codemirror_mode": {
    "name": "ipython",
    "version": 3
   },
   "file_extension": ".py",
   "mimetype": "text/x-python",
   "name": "python",
   "nbconvert_exporter": "python",
   "pygments_lexer": "ipython3",
   "version": "3.11.7"
  }
 },
 "nbformat": 4,
 "nbformat_minor": 5
}
